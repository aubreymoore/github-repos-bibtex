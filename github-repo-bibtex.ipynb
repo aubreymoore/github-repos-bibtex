{
 "cells": [
  {
   "cell_type": "markdown",
   "id": "8c0af3f9",
   "metadata": {},
   "source": [
    "# github-repo-bibtex\n",
    "\n",
    "This Jupyter notebook creates a BibTex library containing references for all of my GitHub repositories.\n",
    "The resulting **github-repos.bib** file can be converted into a nicely formatted bibliography in a **PDF** document using **github-repos.tex**.\n",
    "\n",
    "## Reference\n",
    "\n",
    "https://stackoverflow.com/questions/33878019/how-to-get-data-from-all-pages-in-github-api-with-python/33878531\n"
   ]
  },
  {
   "cell_type": "code",
   "execution_count": 6,
   "id": "041cf97d",
   "metadata": {},
   "outputs": [],
   "source": [
    "import requests\n",
    "import re\n",
    "import subprocess"
   ]
  },
  {
   "cell_type": "code",
   "execution_count": 7,
   "id": "8d61e889",
   "metadata": {},
   "outputs": [],
   "source": [
    "AUTHOR = 'Aubrey Moore'\n",
    "GITHUB_USER = 'aubreymoore'"
   ]
  },
  {
   "cell_type": "code",
   "execution_count": 8,
   "id": "4a418cdf",
   "metadata": {},
   "outputs": [],
   "source": [
    "def date2year(date_string): \n",
    "    \"\"\"\n",
    "    Returns the first 4-digit string in date_string, or 0 if not found\n",
    "    \"\"\"\n",
    "    if (type(date_string)==str):\n",
    "        match = re.search('\\d\\d\\d\\d', date_string)\n",
    "        if match:\n",
    "            return match.group(0)\n",
    "        else:\n",
    "            return '0'\n",
    "    return '0'\n",
    "\n",
    "# date2year('asas asas 123 asasas 1345 wewe.')"
   ]
  },
  {
   "cell_type": "markdown",
   "id": "057a0430",
   "metadata": {},
   "source": [
    "## Download a dict containing all GitHub repos for a specified user"
   ]
  },
  {
   "cell_type": "code",
   "execution_count": 9,
   "id": "1449a3eb",
   "metadata": {},
   "outputs": [],
   "source": [
    "url = f'https://api.github.com/users/{GITHUB_USER}/repos?page=1&per_page=100'\n",
    "res = requests.get(url)\n",
    "repos=res.json()\n",
    "while 'next' in res.links.keys():\n",
    "    res=requests.get(res.links['next']['url'])\n",
    "    repos.extend(res.json())"
   ]
  },
  {
   "cell_type": "markdown",
   "id": "36dc308d",
   "metadata": {},
   "source": [
    "## Create a BibTex library for all repos and save to a file"
   ]
  },
  {
   "cell_type": "code",
   "execution_count": 22,
   "id": "6684a25d-7aac-407c-bea8-c39c72da0d06",
   "metadata": {},
   "outputs": [],
   "source": [
    "s = ''\n",
    "for i, repo in enumerate(repos):\n",
    "    count = i+1\n",
    "    name = repo.get('name','')\n",
    "    html_url = repo.get('html_url','')\n",
    "    created_at = repo.get('created_at','')\n",
    "    description = repo.get('description','')\n",
    "    if description==None:\n",
    "        description = ''\n",
    "    id = repo.get('id','')\n",
    "    \n",
    "    citekey = f'GH{id}'\n",
    "    author = 'Aubrey Moore'\n",
    "    title = f'GitHub Repository: {name}: {description}'\n",
    "    title = title.replace('\"','')   # Removes any double quotes with the string\n",
    "    year = date2year(created_at)\n",
    "    \n",
    "    s += f'@misc{{{citekey},\\n'\n",
    "    s += f'  author = \"{AUTHOR}\",\\n'\n",
    "    s += f'  year = \"{year}\",\\n'\n",
    "    s += f'  title = \"{title}\",\\n'\n",
    "    s += f'  howpublished = \"\\\\url{{{html_url}}}\"\\n'\n",
    "    s += '}\\n\\n'\n",
    "with open('github-repos.bib', 'w') as f:\n",
    "    f.write(s)"
   ]
  },
  {
   "cell_type": "markdown",
   "id": "7cf10619",
   "metadata": {},
   "source": [
    "The resulting **github-repos.bib** file can be converted into a nicely formatted bibliography in a **PDF** document using **github-repos.tex** and **TexStudio**."
   ]
  }
 ],
 "metadata": {
  "kernelspec": {
   "display_name": "Python 3",
   "language": "python",
   "name": "python3"
  },
  "language_info": {
   "codemirror_mode": {
    "name": "ipython",
    "version": 3
   },
   "file_extension": ".py",
   "mimetype": "text/x-python",
   "name": "python",
   "nbconvert_exporter": "python",
   "pygments_lexer": "ipython3",
   "version": "3.8.10"
  }
 },
 "nbformat": 4,
 "nbformat_minor": 5
}
