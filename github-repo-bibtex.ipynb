{
 "cells": [
  {
   "cell_type": "code",
   "execution_count": 32,
   "id": "041cf97d",
   "metadata": {},
   "outputs": [],
   "source": [
    "# ref: https://stackoverflow.com/questions/33878019/how-to-get-data-from-all-pages-in-github-api-with-python/33878531\n",
    "\n",
    "import requests\n",
    "import re\n",
    "import subprocess"
   ]
  },
  {
   "cell_type": "code",
   "execution_count": 23,
   "id": "8d61e889",
   "metadata": {},
   "outputs": [],
   "source": [
    "AUTHOR = 'Aubrey Moore'\n",
    "GITHUB_USER = 'aubreymoore'"
   ]
  },
  {
   "cell_type": "code",
   "execution_count": 24,
   "id": "4a418cdf",
   "metadata": {},
   "outputs": [],
   "source": [
    "def date2year(date_string): \n",
    "    \"\"\"\n",
    "    Returns the first 4-digit string in date_string, or 0 if not found\n",
    "    \"\"\"\n",
    "    if (type(date_string)==str):\n",
    "        match = re.search('\\d\\d\\d\\d', date_string)\n",
    "        if match:\n",
    "            return match.group(0)\n",
    "        else:\n",
    "            return '0'\n",
    "    return '0'\n",
    "\n",
    "# date2year('asas asas 123 asasas 1345 wewe.')"
   ]
  },
  {
   "cell_type": "markdown",
   "id": "057a0430",
   "metadata": {},
   "source": [
    "# Download a dict containing all GitHub repos for a specified user"
   ]
  },
  {
   "cell_type": "code",
   "execution_count": 3,
   "id": "1449a3eb",
   "metadata": {},
   "outputs": [],
   "source": [
    "url = f'https://api.github.com/users/{USER}/repos?page=1&per_page=100'\n",
    "res = requests.get(url)\n",
    "repos=res.json()\n",
    "while 'next' in res.links.keys():\n",
    "    res=requests.get(res.links['next']['url'])\n",
    "    repos.extend(res.json())"
   ]
  },
  {
   "cell_type": "markdown",
   "id": "36dc308d",
   "metadata": {},
   "source": [
    "# Create a BibTex library for all repos and save to a file"
   ]
  },
  {
   "cell_type": "code",
   "execution_count": 1,
   "id": "6684a25d-7aac-407c-bea8-c39c72da0d06",
   "metadata": {},
   "outputs": [
    {
     "ename": "NameError",
     "evalue": "name 'repos' is not defined",
     "output_type": "error",
     "traceback": [
      "\u001b[0;31m---------------------------------------------------------------------------\u001b[0m",
      "\u001b[0;31mNameError\u001b[0m                                 Traceback (most recent call last)",
      "\u001b[0;32m<ipython-input-1-a3fa62eee97e>\u001b[0m in \u001b[0;36m<module>\u001b[0;34m\u001b[0m\n\u001b[1;32m      1\u001b[0m \u001b[0ms\u001b[0m \u001b[0;34m=\u001b[0m \u001b[0;34m''\u001b[0m\u001b[0;34m\u001b[0m\u001b[0;34m\u001b[0m\u001b[0m\n\u001b[0;32m----> 2\u001b[0;31m \u001b[0;32mfor\u001b[0m \u001b[0mi\u001b[0m\u001b[0;34m,\u001b[0m \u001b[0mrepo\u001b[0m \u001b[0;32min\u001b[0m \u001b[0menumerate\u001b[0m\u001b[0;34m(\u001b[0m\u001b[0mrepos\u001b[0m\u001b[0;34m)\u001b[0m\u001b[0;34m:\u001b[0m\u001b[0;34m\u001b[0m\u001b[0;34m\u001b[0m\u001b[0m\n\u001b[0m\u001b[1;32m      3\u001b[0m     \u001b[0mcount\u001b[0m \u001b[0;34m=\u001b[0m \u001b[0mi\u001b[0m\u001b[0;34m+\u001b[0m\u001b[0;36m1\u001b[0m\u001b[0;34m\u001b[0m\u001b[0;34m\u001b[0m\u001b[0m\n\u001b[1;32m      4\u001b[0m     \u001b[0mname\u001b[0m \u001b[0;34m=\u001b[0m \u001b[0mrepo\u001b[0m\u001b[0;34m.\u001b[0m\u001b[0mget\u001b[0m\u001b[0;34m(\u001b[0m\u001b[0;34m'name'\u001b[0m\u001b[0;34m,\u001b[0m\u001b[0;34m''\u001b[0m\u001b[0;34m)\u001b[0m\u001b[0;34m\u001b[0m\u001b[0;34m\u001b[0m\u001b[0m\n\u001b[1;32m      5\u001b[0m     \u001b[0mhtml_url\u001b[0m \u001b[0;34m=\u001b[0m \u001b[0mrepo\u001b[0m\u001b[0;34m.\u001b[0m\u001b[0mget\u001b[0m\u001b[0;34m(\u001b[0m\u001b[0;34m'html_url'\u001b[0m\u001b[0;34m,\u001b[0m\u001b[0;34m''\u001b[0m\u001b[0;34m)\u001b[0m\u001b[0;34m\u001b[0m\u001b[0;34m\u001b[0m\u001b[0m\n",
      "\u001b[0;31mNameError\u001b[0m: name 'repos' is not defined"
     ]
    }
   ],
   "source": [
    "s = ''\n",
    "for i, repo in enumerate(repos):\n",
    "    count = i+1\n",
    "    name = repo.get('name','')\n",
    "    html_url = repo.get('html_url','')\n",
    "    created_at = repo.get('created_at','')\n",
    "    description = repo.get('description','')\n",
    "    description = description.replace('None','')\n",
    "    id = repo.get('id','')\n",
    "    \n",
    "    citekey = f'GH{id}'\n",
    "    author = 'Aubrey Moore'\n",
    "    title = f'GitHub Repository: {name}: {description}'\n",
    "    title = title.replace('\"','')   # Removes any double quotes with the string\n",
    "    year = date2year(created_at)\n",
    "    \n",
    "    s += f'@misc{{{citekey},\\n'\n",
    "    s += f'  author = \"{AUTHOR}\",\\n'\n",
    "    s += f'  year = \"{year}\",\\n'\n",
    "    s += f'  title = \"{title}\",\\n'\n",
    "    s += f'  howpublished = \"\\\\url{{{html_url}}}\"\\n'\n",
    "    s += '}\\n\\n'\n",
    "with open('github-repos.bib', 'w') as f:\n",
    "    f.write(s)"
   ]
  },
  {
   "cell_type": "code",
   "execution_count": 43,
   "id": "3f222a7d",
   "metadata": {},
   "outputs": [
    {
     "name": "stdout",
     "output_type": "stream",
     "text": [
      "\n"
     ]
    }
   ],
   "source": [
    "process = subprocess.run(['pandoc','-f','bibtex','--citeproc','--csl=chicago-annotated-bibliography.csl',\n",
    "                'github-repos.bib',\n",
    "                '-o','pubs.md'],capture_output=True, text=True)\n",
    "if process.returncode == 0: \n",
    "    print(process.stdout)\n",
    "else:\n",
    "    print(process.stderr)"
   ]
  },
  {
   "cell_type": "code",
   "execution_count": 37,
   "id": "ae0b3971",
   "metadata": {},
   "outputs": [
    {
     "data": {
      "text/plain": [
       "99"
      ]
     },
     "execution_count": 37,
     "metadata": {},
     "output_type": "execute_result"
    }
   ],
   "source": [
    "x.returncode"
   ]
  },
  {
   "cell_type": "raw",
   "id": "9d0b2ad7",
   "metadata": {},
   "source": [
    "@misc{citekey,\n",
    "  author       = \"\",\n",
    "  title        = \"\",\n",
    "  howpublished = \"\",\n",
    "  month        = \"\",\n",
    "  year         = \"\",\n",
    "  note         = \"\",\n",
    "  annote       = \"\"\n",
    "}"
   ]
  }
 ],
 "metadata": {
  "kernelspec": {
   "display_name": "Python 3",
   "language": "python",
   "name": "python3"
  },
  "language_info": {
   "codemirror_mode": {
    "name": "ipython",
    "version": 3
   },
   "file_extension": ".py",
   "mimetype": "text/x-python",
   "name": "python",
   "nbconvert_exporter": "python",
   "pygments_lexer": "ipython3",
   "version": "3.8.10"
  }
 },
 "nbformat": 4,
 "nbformat_minor": 5
}
